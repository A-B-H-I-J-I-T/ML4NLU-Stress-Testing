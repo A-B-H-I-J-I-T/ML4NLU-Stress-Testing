{
 "cells": [
  {
   "cell_type": "code",
   "execution_count": 12,
   "metadata": {},
   "outputs": [
    {
     "data": {
      "text/html": [
       "<div>\n",
       "<style scoped>\n",
       "    .dataframe tbody tr th:only-of-type {\n",
       "        vertical-align: middle;\n",
       "    }\n",
       "\n",
       "    .dataframe tbody tr th {\n",
       "        vertical-align: top;\n",
       "    }\n",
       "\n",
       "    .dataframe thead th {\n",
       "        text-align: right;\n",
       "    }\n",
       "</style>\n",
       "<table border=\"1\" class=\"dataframe\">\n",
       "  <thead>\n",
       "    <tr style=\"text-align: right;\">\n",
       "      <th></th>\n",
       "      <th>SrNo</th>\n",
       "      <th>Difficulty</th>\n",
       "      <th>Question Category</th>\n",
       "      <th>Question</th>\n",
       "      <th>Outcome</th>\n",
       "    </tr>\n",
       "  </thead>\n",
       "  <tbody>\n",
       "    <tr>\n",
       "      <th>0</th>\n",
       "      <td>1</td>\n",
       "      <td>easy</td>\n",
       "      <td>python</td>\n",
       "      <td>Write a program to reverse a string using recursion?</td>\n",
       "      <td>NaN</td>\n",
       "    </tr>\n",
       "  </tbody>\n",
       "</table>\n",
       "</div>"
      ],
      "text/plain": [
       "   SrNo Difficulty Question Category  \\\n",
       "0     1       easy            python   \n",
       "\n",
       "                                               Question  Outcome  \n",
       "0  Write a program to reverse a string using recursion?      NaN  "
      ]
     },
     "metadata": {},
     "output_type": "display_data"
    }
   ],
   "source": [
    "import pandas as pd\n",
    "\n",
    "# Replace 'your_file_path.tsv' with the actual path to your TSV file\n",
    "df = pd.read_csv('..\\Test Case\\EasyTestCase.tsv', sep='\\t')\n",
    "\n",
    "# # Now you can work with the DataFrame 'df'\n",
    "# display(df)\n",
    "\n",
    "# Replace 'your_file_path.xlsx' with the actual path to your Excel file\n",
    "df = pd.read_excel('..\\Test Case\\EasyTestCase.xlsx')\n",
    "\n",
    "# Set the max_colwidth option to a large value (e.g., None for no truncation)\n",
    "pd.set_option('display.max_colwidth', None)\n",
    "\n",
    "\n",
    "# Now you can work with the DataFrame 'df'\n",
    "display(df)"
   ]
  }
 ],
 "metadata": {
  "kernelspec": {
   "display_name": "base",
   "language": "python",
   "name": "python3"
  },
  "language_info": {
   "codemirror_mode": {
    "name": "ipython",
    "version": 3
   },
   "file_extension": ".py",
   "mimetype": "text/x-python",
   "name": "python",
   "nbconvert_exporter": "python",
   "pygments_lexer": "ipython3",
   "version": "3.8.8"
  },
  "orig_nbformat": 4
 },
 "nbformat": 4,
 "nbformat_minor": 2
}
