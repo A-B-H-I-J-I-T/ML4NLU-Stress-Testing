{
 "cells": [
  {
   "cell_type": "code",
   "execution_count": 1,
   "metadata": {},
   "outputs": [
    {
     "data": {
      "text/html": [
       "<div>\n",
       "<style scoped>\n",
       "    .dataframe tbody tr th:only-of-type {\n",
       "        vertical-align: middle;\n",
       "    }\n",
       "\n",
       "    .dataframe tbody tr th {\n",
       "        vertical-align: top;\n",
       "    }\n",
       "\n",
       "    .dataframe thead th {\n",
       "        text-align: right;\n",
       "    }\n",
       "</style>\n",
       "<table border=\"1\" class=\"dataframe\">\n",
       "  <thead>\n",
       "    <tr style=\"text-align: right;\">\n",
       "      <th></th>\n",
       "      <th>Difficulty</th>\n",
       "      <th>Question Category</th>\n",
       "      <th>GPT3.5</th>\n",
       "      <th>Bard</th>\n",
       "      <th>BingAI</th>\n",
       "      <th>You.com</th>\n",
       "    </tr>\n",
       "  </thead>\n",
       "  <tbody>\n",
       "    <tr>\n",
       "      <th>0</th>\n",
       "      <td>Easy</td>\n",
       "      <td>Python</td>\n",
       "      <td>0</td>\n",
       "      <td>1</td>\n",
       "      <td>0</td>\n",
       "      <td>0</td>\n",
       "    </tr>\n",
       "    <tr>\n",
       "      <th>1</th>\n",
       "      <td>Easy</td>\n",
       "      <td>Python</td>\n",
       "      <td>1</td>\n",
       "      <td>1</td>\n",
       "      <td>1</td>\n",
       "      <td>1</td>\n",
       "    </tr>\n",
       "    <tr>\n",
       "      <th>2</th>\n",
       "      <td>Easy</td>\n",
       "      <td>Python</td>\n",
       "      <td>1</td>\n",
       "      <td>1</td>\n",
       "      <td>1</td>\n",
       "      <td>1</td>\n",
       "    </tr>\n",
       "    <tr>\n",
       "      <th>3</th>\n",
       "      <td>Easy</td>\n",
       "      <td>Python</td>\n",
       "      <td>1</td>\n",
       "      <td>1</td>\n",
       "      <td>1</td>\n",
       "      <td>1</td>\n",
       "    </tr>\n",
       "    <tr>\n",
       "      <th>4</th>\n",
       "      <td>Easy</td>\n",
       "      <td>Python</td>\n",
       "      <td>1</td>\n",
       "      <td>1</td>\n",
       "      <td>1</td>\n",
       "      <td>1</td>\n",
       "    </tr>\n",
       "    <tr>\n",
       "      <th>...</th>\n",
       "      <td>...</td>\n",
       "      <td>...</td>\n",
       "      <td>...</td>\n",
       "      <td>...</td>\n",
       "      <td>...</td>\n",
       "      <td>...</td>\n",
       "    </tr>\n",
       "    <tr>\n",
       "      <th>85</th>\n",
       "      <td>Difficult</td>\n",
       "      <td>Java</td>\n",
       "      <td>0</td>\n",
       "      <td>0</td>\n",
       "      <td>0</td>\n",
       "      <td>0</td>\n",
       "    </tr>\n",
       "    <tr>\n",
       "      <th>86</th>\n",
       "      <td>Difficult</td>\n",
       "      <td>Java</td>\n",
       "      <td>0</td>\n",
       "      <td>0</td>\n",
       "      <td>1</td>\n",
       "      <td>0</td>\n",
       "    </tr>\n",
       "    <tr>\n",
       "      <th>87</th>\n",
       "      <td>Difficult</td>\n",
       "      <td>Java</td>\n",
       "      <td>0</td>\n",
       "      <td>0</td>\n",
       "      <td>0</td>\n",
       "      <td>0</td>\n",
       "    </tr>\n",
       "    <tr>\n",
       "      <th>88</th>\n",
       "      <td>Difficult</td>\n",
       "      <td>Java</td>\n",
       "      <td>0</td>\n",
       "      <td>1</td>\n",
       "      <td>1</td>\n",
       "      <td>1</td>\n",
       "    </tr>\n",
       "    <tr>\n",
       "      <th>89</th>\n",
       "      <td>Difficult</td>\n",
       "      <td>Java</td>\n",
       "      <td>0</td>\n",
       "      <td>0</td>\n",
       "      <td>0</td>\n",
       "      <td>0</td>\n",
       "    </tr>\n",
       "  </tbody>\n",
       "</table>\n",
       "<p>90 rows × 6 columns</p>\n",
       "</div>"
      ],
      "text/plain": [
       "   Difficulty Question Category  GPT3.5  Bard  BingAI  You.com\n",
       "0        Easy            Python       0     1       0        0\n",
       "1        Easy            Python       1     1       1        1\n",
       "2        Easy            Python       1     1       1        1\n",
       "3        Easy            Python       1     1       1        1\n",
       "4        Easy            Python       1     1       1        1\n",
       "..        ...               ...     ...   ...     ...      ...\n",
       "85  Difficult              Java       0     0       0        0\n",
       "86  Difficult              Java       0     0       1        0\n",
       "87  Difficult              Java       0     0       0        0\n",
       "88  Difficult              Java       0     1       1        1\n",
       "89  Difficult              Java       0     0       0        0\n",
       "\n",
       "[90 rows x 6 columns]"
      ]
     },
     "metadata": {},
     "output_type": "display_data"
    }
   ],
   "source": [
    "import pandas as pd\n",
    "\n",
    "\n",
    "# Replace 'your_file_path.xlsx' with the actual path to your Excel file\n",
    "df = pd.read_excel('..\\Test Case\\Visualization.xlsx')\n",
    "\n",
    "# Set the max_colwidth option to a large value (e.g., None for no truncation)\n",
    "pd.set_option('display.max_colwidth', None)\n",
    "\n",
    "\n",
    "# Now you can work with the DataFrame 'df'\n",
    "display(df)"
   ]
  },
  {
   "cell_type": "code",
   "execution_count": 2,
   "metadata": {},
   "outputs": [
    {
     "ename": "TypeError",
     "evalue": "no numeric data to plot",
     "output_type": "error",
     "traceback": [
      "\u001b[1;31m---------------------------------------------------------------------------\u001b[0m",
      "\u001b[1;31mTypeError\u001b[0m                                 Traceback (most recent call last)",
      "\u001b[1;32md:\\Git\\ML4NLU-Stress-Testing\\Code\\Performance Visualization.ipynb Cell 2\u001b[0m line \u001b[0;36m<cell line: 8>\u001b[1;34m()\u001b[0m\n\u001b[0;32m      <a href='vscode-notebook-cell:/d%3A/Git/ML4NLU-Stress-Testing/Code/Performance%20Visualization.ipynb#W2sZmlsZQ%3D%3D?line=4'>5</a>\u001b[0m column_name \u001b[39m=\u001b[39m \u001b[39m'\u001b[39m\u001b[39mDifficulty\u001b[39m\u001b[39m'\u001b[39m\n\u001b[0;32m      <a href='vscode-notebook-cell:/d%3A/Git/ML4NLU-Stress-Testing/Code/Performance%20Visualization.ipynb#W2sZmlsZQ%3D%3D?line=6'>7</a>\u001b[0m \u001b[39m# Create the histogram\u001b[39;00m\n\u001b[1;32m----> <a href='vscode-notebook-cell:/d%3A/Git/ML4NLU-Stress-Testing/Code/Performance%20Visualization.ipynb#W2sZmlsZQ%3D%3D?line=7'>8</a>\u001b[0m df[column_name]\u001b[39m.\u001b[39;49mplot\u001b[39m.\u001b[39;49mhist(bins\u001b[39m=\u001b[39;49m\u001b[39m10\u001b[39;49m, color\u001b[39m=\u001b[39;49m\u001b[39m'\u001b[39;49m\u001b[39mblue\u001b[39;49m\u001b[39m'\u001b[39;49m, alpha\u001b[39m=\u001b[39;49m\u001b[39m0.7\u001b[39;49m)\n\u001b[0;32m     <a href='vscode-notebook-cell:/d%3A/Git/ML4NLU-Stress-Testing/Code/Performance%20Visualization.ipynb#W2sZmlsZQ%3D%3D?line=9'>10</a>\u001b[0m \u001b[39m# Customize the plot (add labels, title, etc.)\u001b[39;00m\n\u001b[0;32m     <a href='vscode-notebook-cell:/d%3A/Git/ML4NLU-Stress-Testing/Code/Performance%20Visualization.ipynb#W2sZmlsZQ%3D%3D?line=10'>11</a>\u001b[0m plt\u001b[39m.\u001b[39mxlabel(\u001b[39m'\u001b[39m\u001b[39mAge\u001b[39m\u001b[39m'\u001b[39m)\n",
      "File \u001b[1;32mc:\\Users\\abhij\\anaconda3\\lib\\site-packages\\pandas\\plotting\\_core.py:1296\u001b[0m, in \u001b[0;36mPlotAccessor.hist\u001b[1;34m(self, by, bins, **kwargs)\u001b[0m\n\u001b[0;32m   1251\u001b[0m \u001b[39mdef\u001b[39;00m \u001b[39mhist\u001b[39m(\u001b[39mself\u001b[39m, by\u001b[39m=\u001b[39m\u001b[39mNone\u001b[39;00m, bins\u001b[39m=\u001b[39m\u001b[39m10\u001b[39m, \u001b[39m*\u001b[39m\u001b[39m*\u001b[39mkwargs):\n\u001b[0;32m   1252\u001b[0m     \u001b[39m\"\"\"\u001b[39;00m\n\u001b[0;32m   1253\u001b[0m \u001b[39m    Draw one histogram of the DataFrame's columns.\u001b[39;00m\n\u001b[0;32m   1254\u001b[0m \n\u001b[1;32m   (...)\u001b[0m\n\u001b[0;32m   1294\u001b[0m \u001b[39m        >>> ax = df.plot.hist(bins=12, alpha=0.5)\u001b[39;00m\n\u001b[0;32m   1295\u001b[0m \u001b[39m    \"\"\"\u001b[39;00m\n\u001b[1;32m-> 1296\u001b[0m     \u001b[39mreturn\u001b[39;00m \u001b[39mself\u001b[39;49m(kind\u001b[39m=\u001b[39;49m\u001b[39m\"\u001b[39;49m\u001b[39mhist\u001b[39;49m\u001b[39m\"\u001b[39;49m, by\u001b[39m=\u001b[39;49mby, bins\u001b[39m=\u001b[39;49mbins, \u001b[39m*\u001b[39;49m\u001b[39m*\u001b[39;49mkwargs)\n",
      "File \u001b[1;32mc:\\Users\\abhij\\anaconda3\\lib\\site-packages\\pandas\\plotting\\_core.py:955\u001b[0m, in \u001b[0;36mPlotAccessor.__call__\u001b[1;34m(self, *args, **kwargs)\u001b[0m\n\u001b[0;32m    952\u001b[0m             label_name \u001b[39m=\u001b[39m label_kw \u001b[39mor\u001b[39;00m data\u001b[39m.\u001b[39mcolumns\n\u001b[0;32m    953\u001b[0m             data\u001b[39m.\u001b[39mcolumns \u001b[39m=\u001b[39m label_name\n\u001b[1;32m--> 955\u001b[0m \u001b[39mreturn\u001b[39;00m plot_backend\u001b[39m.\u001b[39;49mplot(data, kind\u001b[39m=\u001b[39;49mkind, \u001b[39m*\u001b[39;49m\u001b[39m*\u001b[39;49mkwargs)\n",
      "File \u001b[1;32mc:\\Users\\abhij\\anaconda3\\lib\\site-packages\\pandas\\plotting\\_matplotlib\\__init__.py:61\u001b[0m, in \u001b[0;36mplot\u001b[1;34m(data, kind, **kwargs)\u001b[0m\n\u001b[0;32m     59\u001b[0m         kwargs[\u001b[39m\"\u001b[39m\u001b[39max\u001b[39m\u001b[39m\"\u001b[39m] \u001b[39m=\u001b[39m \u001b[39mgetattr\u001b[39m(ax, \u001b[39m\"\u001b[39m\u001b[39mleft_ax\u001b[39m\u001b[39m\"\u001b[39m, ax)\n\u001b[0;32m     60\u001b[0m plot_obj \u001b[39m=\u001b[39m PLOT_CLASSES[kind](data, \u001b[39m*\u001b[39m\u001b[39m*\u001b[39mkwargs)\n\u001b[1;32m---> 61\u001b[0m plot_obj\u001b[39m.\u001b[39;49mgenerate()\n\u001b[0;32m     62\u001b[0m plot_obj\u001b[39m.\u001b[39mdraw()\n\u001b[0;32m     63\u001b[0m \u001b[39mreturn\u001b[39;00m plot_obj\u001b[39m.\u001b[39mresult\n",
      "File \u001b[1;32mc:\\Users\\abhij\\anaconda3\\lib\\site-packages\\pandas\\plotting\\_matplotlib\\core.py:278\u001b[0m, in \u001b[0;36mMPLPlot.generate\u001b[1;34m(self)\u001b[0m\n\u001b[0;32m    276\u001b[0m \u001b[39mdef\u001b[39;00m \u001b[39mgenerate\u001b[39m(\u001b[39mself\u001b[39m):\n\u001b[0;32m    277\u001b[0m     \u001b[39mself\u001b[39m\u001b[39m.\u001b[39m_args_adjust()\n\u001b[1;32m--> 278\u001b[0m     \u001b[39mself\u001b[39;49m\u001b[39m.\u001b[39;49m_compute_plot_data()\n\u001b[0;32m    279\u001b[0m     \u001b[39mself\u001b[39m\u001b[39m.\u001b[39m_setup_subplots()\n\u001b[0;32m    280\u001b[0m     \u001b[39mself\u001b[39m\u001b[39m.\u001b[39m_make_plot()\n",
      "File \u001b[1;32mc:\\Users\\abhij\\anaconda3\\lib\\site-packages\\pandas\\plotting\\_matplotlib\\core.py:441\u001b[0m, in \u001b[0;36mMPLPlot._compute_plot_data\u001b[1;34m(self)\u001b[0m\n\u001b[0;32m    439\u001b[0m \u001b[39m# no non-numeric frames or series allowed\u001b[39;00m\n\u001b[0;32m    440\u001b[0m \u001b[39mif\u001b[39;00m is_empty:\n\u001b[1;32m--> 441\u001b[0m     \u001b[39mraise\u001b[39;00m \u001b[39mTypeError\u001b[39;00m(\u001b[39m\"\u001b[39m\u001b[39mno numeric data to plot\u001b[39m\u001b[39m\"\u001b[39m)\n\u001b[0;32m    443\u001b[0m \u001b[39mself\u001b[39m\u001b[39m.\u001b[39mdata \u001b[39m=\u001b[39m numeric_data\u001b[39m.\u001b[39mapply(\u001b[39mself\u001b[39m\u001b[39m.\u001b[39m_convert_to_ndarray)\n",
      "\u001b[1;31mTypeError\u001b[0m: no numeric data to plot"
     ]
    }
   ],
   "source": [
    "import matplotlib.pyplot as plt\n",
    "\n",
    "\n",
    "# Choose the column for the histogram\n",
    "column_name = 'Difficulty'\n",
    "\n",
    "# Create the histogram\n",
    "df[column_name].plot.hist(bins=10, color='blue', alpha=0.7)\n",
    "\n",
    "# Customize the plot (add labels, title, etc.)\n",
    "plt.xlabel('Age')\n",
    "plt.ylabel('Frequency')\n",
    "plt.title('Age Distribution Histogram')\n",
    "\n",
    "# Show the plot\n",
    "plt.show()\n"
   ]
  },
  {
   "cell_type": "code",
   "execution_count": 10,
   "metadata": {},
   "outputs": [
    {
     "data": {
      "image/png": "[encoded data removed]",
      "text/plain": [
       "<Figure size 432x288 with 1 Axes>"
      ]
     },
     "metadata": {
      "needs_background": "light"
     },
     "output_type": "display_data"
    }
   ],
   "source": [
    "import pandas as pd\n",
    "import matplotlib.pyplot as plt\n",
    "\n",
    "# Sample DataFrame\n",
    "data = pd.DataFrame({\n",
    "    'Category': ['A', 'B', 'A', 'B', 'A', 'B'],\n",
    "    'Column1': [10, 20, 30, 40, 50, 60],\n",
    "    'Column2': [15, 25, 35, 45, 55, 65],\n",
    "    'Column3': [12, 22, 32, 42, 52, 62],\n",
    "    'Column4': [18, 28, 38, 48, 58, 68]\n",
    "})\n",
    "\n",
    "# Group by 'Category' and sum the values in other columns\n",
    "grouped_data = data.groupby('Category').sum()\n",
    "\n",
    "# Transpose the data for plotting\n",
    "transposed_data = grouped_data[['Column1', 'Column2', 'Column3', 'Column4']].transpose()\n",
    "\n",
    "# Create a bar plot\n",
    "transposed_data.plot(kind='bar', stacked=False)\n",
    "\n",
    "# Add labels and a title\n",
    "plt.xlabel('Columns')\n",
    "plt.ylabel('Total')\n",
    "plt.title('Total Values by Column')\n",
    "\n",
    "# Show the plot\n",
    "plt.show()\n"
   ]
  },
  {
   "cell_type": "code",
   "execution_count": 17,
   "metadata": {},
   "outputs": [
    {
     "data": {
      "image/png": "[encoded data removed]",
      "text/plain": [
       "<Figure size 432x288 with 1 Axes>"
      ]
     },
     "metadata": {
      "needs_background": "light"
     },
     "output_type": "display_data"
    }
   ],
   "source": [
    "import pandas as pd\n",
    "import matplotlib.pyplot as plt\n",
    "\n",
    "# Sample DataFrame\n",
    "data = pd.DataFrame({\n",
    "    'Category': ['A', 'B', 'A', 'B', 'A', 'B'],\n",
    "    'Column1': [10, 20, 30, 40, 50, 60],\n",
    "    'Column2': [15, 25, 35, 45, 55, 65],\n",
    "    'Column3': [12, 22, 32, 42, 52, 62],\n",
    "    'Column4': [18, 28, 38, 48, 58, 68]\n",
    "})\n",
    "\n",
    "# Group by 'Category' and sum the values in other columns\n",
    "grouped_data = data.groupby('Category').sum()\n",
    "\n",
    "# Transpose the data for plotting\n",
    "transposed_data = grouped_data[['Column1', 'Column2', 'Column3', 'Column4']].transpose()\n",
    "\n",
    "# Create a bar plot\n",
    "ax = transposed_data.plot(kind='bar', stacked=False)\n",
    "\n",
    "# Add labels and a title\n",
    "plt.xlabel('Columns')\n",
    "plt.ylabel('Total')\n",
    "plt.title('Total Values by Column')\n",
    "\n",
    "# Annotate the bars\n",
    "for p in ax.patches:\n",
    "    ax.annotate(str(int(p.get_height())), (p.get_x() + p.get_width() / 2., p.get_height()), ha='center', va='bottom')\n",
    "\n",
    "# Remove the legend\n",
    "ax.get_legend().remove()\n",
    "\n",
    "# Show the plot\n",
    "plt.show()\n"
   ]
  },
  {
   "cell_type": "code",
   "execution_count": 73,
   "metadata": {},
   "outputs": [
    {
     "name": "stdout",
     "output_type": "stream",
     "text": [
      "A 0\n",
      "A 1\n",
      "A 2\n",
      "A 3\n",
      "B 4\n",
      "B 5\n",
      "B 6\n",
      "B 7\n"
     ]
    },
    {
     "data": {
      "image/png": "[encoded data removed]",
      "text/plain": [
       "<Figure size 432x288 with 1 Axes>"
      ]
     },
     "metadata": {
      "needs_background": "light"
     },
     "output_type": "display_data"
    }
   ],
   "source": [
    "import pandas as pd\n",
    "import matplotlib.pyplot as plt\n",
    "\n",
    "# Sample DataFrame\n",
    "data = pd.DataFrame({\n",
    "    'Category': ['A', 'B', 'A', 'B', 'A', 'B'],\n",
    "    'Column1': [10, 20, 30, 40, 50, 60],\n",
    "    'Column2': [15, 25, 35, 45, 55, 65],\n",
    "    'Column3': [12, 22, 32, 42, 52, 62],\n",
    "    'Column4': [18, 28, 38, 48, 58, 68]\n",
    "})\n",
    "\n",
    "# Group by 'Category' and sum the values in other columns\n",
    "grouped_data = data.groupby('Category').sum()\n",
    "\n",
    "# Transpose the data for plotting\n",
    "transposed_data = grouped_data[['Column1', 'Column2', 'Column3', 'Column4']].transpose()\n",
    "\n",
    "# Create a bar plot\n",
    "ax = transposed_data.plot(kind='bar', stacked=False)\n",
    "\n",
    "# Add labels and a title\n",
    "plt.xlabel('Columns')\n",
    "plt.ylabel('Total')\n",
    "plt.title('Total Values by Column')\n",
    "\n",
    "# Annotate the bars with categories\n",
    "for i, p in enumerate(ax.patches):\n",
    "        if i>3:    \n",
    "            category = transposed_data.columns[1]\n",
    "            print(category,i)\n",
    "            ax.annotate(f'{category}: {int(p.get_height())}', (p.get_x() + p.get_width() / 2., p.get_height()), ha='center', va='bottom')\n",
    "        else:   \n",
    "              category = transposed_data.columns[0]\n",
    "              print(category,i)\n",
    "              ax.annotate(f'{category}: {int(p.get_height())}', (p.get_x() + p.get_width() / 2., p.get_height()), ha='center', va='bottom')\n",
    "# Remove the legend\n",
    "ax.get_legend().remove()\n",
    "\n",
    "# Show the plot\n",
    "plt.show()\n"
   ]
  },
  {
   "cell_type": "code",
   "execution_count": 87,
   "metadata": {},
   "outputs": [
    {
     "data": {
      "image/png": "[encoded data removed]",
      "text/plain": [
       "<Figure size 432x288 with 1 Axes>"
      ]
     },
     "metadata": {
      "needs_background": "light"
     },
     "output_type": "display_data"
    },
    {
     "name": "stdout",
     "output_type": "stream",
     "text": [
      "8\n"
     ]
    }
   ],
   "source": [
    "import pandas as pd\n",
    "import matplotlib.pyplot as plt\n",
    "\n",
    "# Sample DataFrame\n",
    "data = pd.DataFrame({\n",
    "    'Category': ['A', 'B', 'A', 'B', 'A', 'B'],\n",
    "    'Column1': [10, 20, 30, 40, 50, 60],\n",
    "    'Column2': [15, 25, 35, 45, 55, 65],\n",
    "    'Column3': [12, 22, 32, 42, 52, 62],\n",
    "    'Column4': [18, 28, 38, 48, 58, 68]\n",
    "})\n",
    "\n",
    "# Group by 'Category' and sum the values in other columns\n",
    "grouped_data = data.groupby('Category').sum()\n",
    "\n",
    "# Transpose the data for plotting\n",
    "transposed_data = grouped_data[['Column1', 'Column2', 'Column3', 'Column4']].transpose()\n",
    "\n",
    "# Create a bar plot\n",
    "ax = transposed_data.plot(kind='bar', stacked=False)\n",
    "\n",
    "# Add labels and a title\n",
    "plt.xlabel('Columns')\n",
    "plt.ylabel('Total')\n",
    "plt.title('Total Values by Column')\n",
    "\n",
    "# Annotate the bars with categories\n",
    "for i, p in enumerate(ax.patches):\n",
    "    category = transposed_data.columns[0 if i<len(ax.patches)/2 else 1 ]\n",
    "    ax.annotate(f'{category}: {int(p.get_height())}', (p.get_x() + p.get_width() / 2., p.get_height()), ha='center', va='top',rotation='vertical')\n",
    "\n",
    "# Remove the legend\n",
    "ax.get_legend().remove()\n",
    "\n",
    "# Show the plot\n",
    "plt.show()\n",
    "\n",
    "print(len(ax.patches))\n"
   ]
  },
  {
   "cell_type": "markdown",
   "metadata": {},
   "source": [
    "### Graph 1\n"
   ]
  },
  {
   "cell_type": "code",
   "execution_count": 156,
   "metadata": {},
   "outputs": [
    {
     "name": "stdout",
     "output_type": "stream",
     "text": [
      "              GPT3.5  Bard  BingAI  You.com\n",
      "Difficulty                                 \n",
      "Easy              23    19      23       19\n",
      "Intermediate      19    11      15       18\n",
      "Difficult          9     4       7       10\n",
      "Difficulty  Easy  Intermediate  Difficult\n",
      "GPT3.5        23            19          9\n",
      "Bard          19            11          4\n",
      "BingAI        23            15          7\n",
      "You.com       19            18         10\n"
     ]
    },
    {
     "data": {
      "image/png": "[encoded data removed]",
      "text/plain": [
       "<Figure size 432x288 with 1 Axes>"
      ]
     },
     "metadata": {
      "needs_background": "light"
     },
     "output_type": "display_data"
    }
   ],
   "source": [
    "import pandas as pd\n",
    "import matplotlib.pyplot as plt\n",
    "\n",
    "df_g1 = df.drop('Question Category', axis=1)\n",
    "\n",
    "\n",
    "# Group by 'Category' and sum the values in other columns\n",
    "grouped_data = df_g1.groupby('Difficulty').sum()\n",
    "\n",
    "\n",
    "# Define the custom order for the index\n",
    "custom_order = ['Easy','Intermediate','Difficult']\n",
    "\n",
    "# Reindex the DataFrame with the custom order\n",
    "grouped_data = grouped_data.reindex(custom_order)\n",
    "\n",
    "# Transpose the data for plotting\n",
    "transposed_data = grouped_data[['GPT3.5', 'Bard', 'BingAI', 'You.com']].transpose()\n",
    "\n",
    "print(grouped_data)\n",
    "print(transposed_data)\n",
    "# Create a bar plot\n",
    "ax = transposed_data.plot(kind='bar', stacked=False)\n",
    "\n",
    "# Add labels and a title\n",
    "plt.xlabel('Language Models', fontweight='bold')\n",
    "plt.ylabel('Total', fontweight='bold')\n",
    "plt.title('Figure 1: Coding Performance results of Language models by different level of difficulty out of 30', fontweight='bold')\n",
    "\n",
    "# Rotate the x-axis labels by 45 degrees\n",
    "plt.xticks(rotation=45)\n",
    "\n",
    "# Set custom y-axis limits\n",
    "plt.ylim(0, 25)\n",
    "\n",
    "# Annotate the bars with categories\n",
    "for i, p in enumerate(ax.patches):\n",
    "    category = transposed_data.columns[0 if i<len(ax.patches)/3 else 2 if i >= len(ax.patches)/3*2 else 1 ]\n",
    "    ax.annotate(f'{category}', (p.get_x() + p.get_width() / 2., p.get_height()+0.4), ha='center', va='top',rotation='vertical')\n",
    "    ax.annotate(f'{int(p.get_height())}', (p.get_x() + p.get_width() / 2., p.get_height()+0.3), ha='center', va='bottom')\n",
    "# Remove the legend\n",
    "ax.get_legend().remove()\n",
    "\n",
    "# Show the plot\n",
    "plt.show()\n",
    "\n"
   ]
  },
  {
   "cell_type": "markdown",
   "metadata": {},
   "source": [
    "### Graph 2"
   ]
  },
  {
   "cell_type": "code",
   "execution_count": 220,
   "metadata": {},
   "outputs": [
    {
     "name": "stdout",
     "output_type": "stream",
     "text": [
      "                     GPT3.5                  \n",
      "Difficulty        Difficult Easy Intermediate\n",
      "Question Category                            \n",
      "Java                      0    3            5\n",
      "Migration                 4    5            4\n",
      "Python                    3    7            5\n",
      "SQL                       2    8            5\n",
      "Difficulty         Easy  Intermediate  Difficult\n",
      "Question Category                               \n",
      "Python                7             5          3\n",
      "SQL                   8             5          2\n",
      "Migration             5             4          4\n",
      "Java                  3             5          0\n",
      "Easy\n",
      "Easy\n",
      "Easy\n",
      "Easy\n",
      "Intermediate\n",
      "Intermediate\n",
      "Intermediate\n",
      "Intermediate\n",
      "Difficult\n",
      "Difficult\n",
      "Difficult\n",
      "Difficult\n"
     ]
    },
    {
     "data": {
      "image/png": "[encoded data removed]",
      "text/plain": [
       "<Figure size 432x288 with 1 Axes>"
      ]
     },
     "metadata": {
      "needs_background": "light"
     },
     "output_type": "display_data"
    }
   ],
   "source": [
    "import numpy as np\n",
    "df_g1 = df.drop(['Bard','BingAI','You.com'], axis=1)\n",
    "\n",
    "\n",
    "\n",
    "# Group by 'Category' and sum the values in other columns\n",
    "# grouped_data = df_g1.groupby(['Question Category','Difficulty']).sum().reset_index()\n",
    "# print(grouped_data)\n",
    "\n",
    "\n",
    "pivoted_data = df_g1.pivot_table(index='Question Category', columns='Difficulty', values=['GPT3.5'], aggfunc='sum')\n",
    "\n",
    "print(pivoted_data)\n",
    "pivoted_data.columns = pivoted_data.columns.droplevel(0)\n",
    "#pivoted_data = pivoted_data.stack(level=1).reset_index(level=0, drop=True).unstack()\n",
    "\n",
    "# pivoted_data = pivoted_data.sort_index(ascending=True)\n",
    "\n",
    "custom_order = ['Easy','Intermediate','Difficult']\n",
    "# custom_order = ['Python','SQL','Migration','Java']\n",
    "\n",
    "pivoted_data = pivoted_data[custom_order]\n",
    "\n",
    "# Define the custom order for the index\n",
    "custom_order = ['Python','SQL','Migration','Java']\n",
    "\n",
    "# Reindex the DataFrame with the custom order\n",
    "pivoted_data = pivoted_data.reindex(custom_order)\n",
    "\n",
    "\n",
    "print(pivoted_data)\n",
    "\n",
    "\n",
    "# Create a bar plot\n",
    "ax = pivoted_data.plot(kind='bar', stacked=False)\n",
    "\n",
    "\n",
    "# Add labels and a title\n",
    "plt.xlabel('Question Categories', fontweight='bold')\n",
    "plt.ylabel('Total', fontweight='bold')\n",
    "plt.title('Figure 1: Coding Performance results of CHAT GPT 3.5 by different level of difficulty', fontweight='bold')\n",
    "\n",
    "# Rotate the x-axis labels by 45 degrees\n",
    "plt.xticks(rotation=45)\n",
    "\n",
    "# Set custom y-axis limits\n",
    "plt.ylim(0, 10)\n",
    "\n",
    "# Annotate the bars with categories\n",
    "for i, p in enumerate(ax.patches):\n",
    "    category = pivoted_data.columns[0 if i<len(ax.patches)/3 else 2 if i >= len(ax.patches)/3*2 else 1 ]\n",
    "    print(category)\n",
    "    if i != 11:\n",
    "            ax.annotate(f'{category}', (p.get_x() + p.get_width() / 2., p.get_height()), ha='center', va='top',rotation='vertical')\n",
    "            ax.annotate(f'{int(p.get_height())}', (p.get_x() + p.get_width() / 2., p.get_height()), ha='center', va='bottom')\n",
    "    else:\n",
    "          ax.annotate(f'{category}:{int(p.get_height())}', (p.get_x() + p.get_width() / 2., p.get_height()+2.3), ha='center', va='top',rotation='vertical')\n",
    "# Remove the legend\n",
    "ax.get_legend().remove()\n",
    "\n",
    "# Show the plot\n",
    "plt.show()\n",
    "\n",
    "\n",
    "\n"
   ]
  }
 ],
 "metadata": {
  "kernelspec": {
   "display_name": "base",
   "language": "python",
   "name": "python3"
  },
  "language_info": {
   "codemirror_mode": {
    "name": "ipython",
    "version": 3
   },
   "file_extension": ".py",
   "mimetype": "text/x-python",
   "name": "python",
   "nbconvert_exporter": "python",
   "pygments_lexer": "ipython3",
   "version": "3.8.8"
  },
  "orig_nbformat": 4
 },
 "nbformat": 4,
 "nbformat_minor": 2
}
